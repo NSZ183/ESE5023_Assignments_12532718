{
 "cells": [
  {
   "cell_type": "code",
   "execution_count": 3,
   "id": "e3b1693a-e1fb-4a61-8607-b543e718d545",
   "metadata": {},
   "outputs": [
    {
     "name": "stdout",
     "output_type": "stream",
     "text": [
      "无输出\n"
     ]
    }
   ],
   "source": [
    "#1.\n",
    "def Print_values(a, b, c):\n",
    "    #比较 a, b, c 的大小\n",
    "    if a > b:\n",
    "        if b > c:\n",
    "            values = [a, b, c]\n",
    "        else:\n",
    "            if a > c:\n",
    "                values = [a, c, b]\n",
    "            else:\n",
    "                values = [c, a, b]\n",
    "    else:\n",
    "        if b > c:\n",
    "            print(\"无输出\")\n",
    "            return\n",
    "        else:\n",
    "            values = [c, b, a]\n",
    "    x, y, z = values[0], values[1], values[2]\n",
    "    result = x + y - 10 * z\n",
    "    print(\"Result:\", result)\n",
    "#当 a = 5, b = 15, c = 10时\n",
    "Print_values(5, 15, 10)\n"
   ]
  },
  {
   "cell_type": "code",
   "execution_count": 8,
   "id": "298af65a-d614-4b5a-8584-d24f6df1f694",
   "metadata": {},
   "outputs": [
    {
     "name": "stdout",
     "output_type": "stream",
     "text": [
      "F(1) = 1\n",
      "F(3) = 7\n",
      "F(5) = 15\n",
      "F(10) = 33\n",
      "F(20) = 61\n"
     ]
    }
   ],
   "source": [
    "#2.\n",
    "import math\n",
    "def F(x, a={}):\n",
    "    if x == 1:\n",
    "        return 1\n",
    "    if x in a:\n",
    "        return a[x]\n",
    "    y = math.ceil(x / 3)\n",
    "    result = F(y, a) + 2 * x\n",
    "    a[x] = result\n",
    "    return result\n",
    "numbers = [1, 3, 5, 10, 20]\n",
    "for i in numbers:\n",
    "    print(f\"F({i}) =\", F(i))"
   ]
  },
  {
   "cell_type": "code",
   "execution_count": null,
   "id": "c4c8203b-ea74-4598-a346-ea6b5f779ea8",
   "metadata": {},
   "outputs": [],
   "source": []
  },
  {
   "cell_type": "code",
   "execution_count": 16,
   "id": "1d24ea46-8367-464c-af09-eae2e72c501a",
   "metadata": {},
   "outputs": [
    {
     "name": "stdout",
     "output_type": "stream",
     "text": [
      "最大组合数 x = 35\n",
      "组合数是： 4395456\n"
     ]
    }
   ],
   "source": [
    "#3.1\n",
    "def Find_number_of_ways(x):\n",
    "    ways = {0: 1}\n",
    "    for i in range(10): \n",
    "        new_ways = {}\n",
    "        for total in ways:\n",
    "            for face in range(1, 7): \n",
    "                new_total = total + face\n",
    "                if new_total in new_ways:\n",
    "                    new_ways[new_total] += ways[total]\n",
    "                else:\n",
    "                    new_ways[new_total] = ways[total]\n",
    "        ways = new_ways\n",
    "    return ways.get(x, 0)\n",
    "#3.2\n",
    "Number_of_ways = []\n",
    "for x in range(10, 61):\n",
    "    Number_of_ways.append(Find_number_of_ways(x))\n",
    "max_count = max(Number_of_ways)\n",
    "max_x = Number_of_ways.index(max_count) + 10  \n",
    "print(\"最大组合数 x =\", max_x)\n",
    "print(\"组合数是：\", max_count)"
   ]
  },
  {
   "cell_type": "code",
   "execution_count": null,
   "id": "696be5af-fbe5-42c0-8f68-bb141a635569",
   "metadata": {},
   "outputs": [],
   "source": []
  },
  {
   "cell_type": "code",
   "execution_count": 4,
   "id": "1cad6b4e-46b7-4b84-bbbf-135727b22325",
   "metadata": {},
   "outputs": [
    {
     "data": {
      "image/png": "[encoded data removed]",
      "text/plain": [
       "<Figure size 640x480 with 1 Axes>"
      ]
     },
     "metadata": {},
     "output_type": "display_data"
    }
   ],
   "source": [
    "import random\n",
    "import math\n",
    "import matplotlib.pyplot as plt\n",
    "#4.1 \n",
    "def Random_integer(N):\n",
    "    return [random.randint(0, 10) for i in range(N)]\n",
    "#4.2 \n",
    "def Sum_averages(arr):\n",
    "    N = len(arr)\n",
    "    total_sum = sum(arr)\n",
    "    coeff = 0\n",
    "    for k in range(1, N + 1):\n",
    "        coeff += math.comb(N - 1, k - 1) / k\n",
    "    return total_sum * coeff\n",
    "#4.3 \n",
    "Total_sum_averages = []\n",
    "\n",
    "for N in range(1, 101):\n",
    "    arr = Random_integer(N)\n",
    "    total_avg = Sum_averages(arr)\n",
    "    Total_sum_averages.append(total_avg)\n",
    "#画图\n",
    "plt.plot(range(1, 101), Total_sum_averages)\n",
    "plt.xlabel('N')\n",
    "plt.ylabel('Sum of averages')\n",
    "plt.title('Sum of averages for subsets as N increases')\n",
    "plt.show()"
   ]
  },
  {
   "cell_type": "code",
   "execution_count": null,
   "id": "5b979611-2b1b-4099-ab20-450d01e9c195",
   "metadata": {},
   "outputs": [],
   "source": []
  },
  {
   "cell_type": "code",
   "execution_count": 5,
   "id": "c3cd6e7d-be70-4ff5-ac33-54c131857e33",
   "metadata": {},
   "outputs": [
    {
     "name": "stdout",
     "output_type": "stream",
     "text": [
      "N = 10, M = 8, 1000次随机实验后的平均路径数为：0.34\n"
     ]
    }
   ],
   "source": [
    "import random\n",
    "#5.1 \n",
    "def Create_matrix(N, M):\n",
    "    matrix = []\n",
    "    for i in range(N):\n",
    "        row = []\n",
    "        for j in range(M):\n",
    "            if (i == 0 and j == 0) or (i == N-1 and j == M-1):\n",
    "                row.append(1)\n",
    "            else:\n",
    "                row.append(random.randint(0, 1))\n",
    "        matrix.append(row)\n",
    "    return matrix\n",
    "# 5.2\n",
    "def Count_path(matrix):\n",
    "    N = len(matrix)\n",
    "    M = len(matrix[0])\n",
    "    dp = [[0] * M for _ in range(N)]\n",
    "    dp[0][0] = 1 if matrix[0][0] == 1 else 0\n",
    "    for i in range(N):\n",
    "        for j in range(M):\n",
    "            if matrix[i][j] == 0:\n",
    "                dp[i][j] = 0 \n",
    "            else:\n",
    "                if i > 0:\n",
    "                    dp[i][j] += dp[i - 1][j]  \n",
    "                if j > 0:\n",
    "                    dp[i][j] += dp[i][j - 1]  #\n",
    "    return dp[N - 1][M - 1]\n",
    "#5.3 \n",
    "def Run_experiment(N, M, runs=1000):\n",
    "    total_paths = 0\n",
    "    for _ in range(runs):\n",
    "        matrix = Create_matrix(N, M)\n",
    "        paths = Count_path(matrix)\n",
    "        total_paths += paths\n",
    "    mean_paths = total_paths / runs\n",
    "    return mean_paths\n",
    "if __name__ == \"__main__\":\n",
    "    N = 10\n",
    "    M = 8\n",
    "    runs = 1000\n",
    "    mean_result = Run_experiment(N, M, runs)\n",
    "    print(f\"N = {N}, M = {M}, {runs}次随机实验后的平均路径数为：{mean_result:.2f}\")\n"
   ]
  },
  {
   "cell_type": "code",
   "execution_count": null,
   "id": "a13bbcaf-8e2a-4732-90b5-8ff1c4a7e997",
   "metadata": {},
   "outputs": [],
   "source": []
  },
  {
   "cell_type": "code",
   "execution_count": null,
   "id": "8b168a73-f142-42d1-a59a-9024e7b3b5f9",
   "metadata": {},
   "outputs": [],
   "source": []
  },
  {
   "cell_type": "code",
   "execution_count": null,
   "id": "37845d84-b09b-4f44-9636-49d8c988cf42",
   "metadata": {},
   "outputs": [],
   "source": []
  }
 ],
 "metadata": {
  "kernelspec": {
   "display_name": "Python [conda env:base] *",
   "language": "python",
   "name": "conda-base-py"
  },
  "language_info": {
   "codemirror_mode": {
    "name": "ipython",
    "version": 3
   },
   "file_extension": ".py",
   "mimetype": "text/x-python",
   "name": "python",
   "nbconvert_exporter": "python",
   "pygments_lexer": "ipython3",
   "version": "3.13.5"
  }
 },
 "nbformat": 4,
 "nbformat_minor": 5
}
